{
 "cells": [
  {
   "cell_type": "markdown",
   "metadata": {},
   "source": [
    "# Produto de Matrizes\n",
    "\n",
    "Ao contrário do que ocorre com números o produto de matrizes não é comutativo, a ordem dos fatores pode sim alterar o produto; além disso nem sempre esse produto está definido, para que esteja é necessário que a primeira matriz tenha número de linhas igual ao número de colunas da segunda matriz, ou seja, dadas as matrizes $A_{n \\times m}$ e $B_{p \\times q}$ o produto $A \\cdot B$ só está definido se $n = q$.\n",
    "\n",
    "O produto de matrizes também é calculado de forma diferente. Seria natural imaginar um produto entre matrizes de mesmas dimensões sendo feito coordenada a coordenada como a soma$^1$. Esse não é o caso do produto canônico entre matrizes que é calculado como na imagem seguinte:\n",
    "\n",
    "[![Produto de Matrizes](https://upload.wikimedia.org/wikipedia/commons/2/26/Matrix_multiplication_diagram.PNG \"Produto de Matrizes\")](https://pt.wikipedia.org/wiki/Produto_de_matrizes)\n",
    "\n",
    "$^{1}$ ver Produto de Hadamard"
   ]
  },
  {
   "cell_type": "code",
   "execution_count": null,
   "metadata": {
    "collapsed": true
   },
   "outputs": [],
   "source": [
    "%pylab inline"
   ]
  },
  {
   "cell_type": "markdown",
   "metadata": {},
   "source": [
    "Implemente o produto entre matrizes usando somente a biblioteca padrão do Python"
   ]
  },
  {
   "cell_type": "code",
   "execution_count": null,
   "metadata": {
    "collapsed": true
   },
   "outputs": [],
   "source": [
    "def prod_matrizes(A,B):\n",
    "    assert(len(A) == len(B[0])) # teste dos tamanhos\n",
    "    # seu código aqui\n",
    "    return #AB"
   ]
  },
  {
   "cell_type": "markdown",
   "metadata": {},
   "source": [
    "Sugestão: brinque um pouco com o `assert()` e veja o que acontece quando o que está dentro dele é falso"
   ]
  },
  {
   "cell_type": "code",
   "execution_count": null,
   "metadata": {
    "collapsed": true
   },
   "outputs": [],
   "source": []
  }
 ],
 "metadata": {
  "kernelspec": {
   "display_name": "Python 3",
   "language": "python",
   "name": "python3"
  },
  "language_info": {
   "codemirror_mode": {
    "name": "ipython",
    "version": 3
   },
   "file_extension": ".py",
   "mimetype": "text/x-python",
   "name": "python",
   "nbconvert_exporter": "python",
   "pygments_lexer": "ipython3",
   "version": "3.6.0"
  }
 },
 "nbformat": 4,
 "nbformat_minor": 2
}
